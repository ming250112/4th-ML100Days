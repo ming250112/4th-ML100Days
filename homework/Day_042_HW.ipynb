{
 "cells": [
  {
   "cell_type": "markdown",
   "metadata": {},
   "source": [
    "## [作業重點]\n",
    "目前你應該已經要很清楚資料集中，資料的型態是什麼樣子囉！包含特徵 (features) 與標籤 (labels)。因此要記得未來不管什麼專案，必須要把資料清理成相同的格式，才能送進模型訓練。\n",
    "今天的作業開始踏入決策樹這個非常重要的模型，請務必確保你理解模型中每個超參數的意思，並試著調整看看，對最終預測結果的影響為何"
   ]
  },
  {
   "cell_type": "markdown",
   "metadata": {},
   "source": [
    "## 作業\n",
    "\n",
    "1. 試著調整 DecisionTreeClassifier(...) 中的參數，並觀察是否會改變結果？\n",
    "2. 改用其他資料集 (boston, wine)，並與回歸模型的結果進行比較"
   ]
  },
  {
   "cell_type": "code",
   "execution_count": 1,
   "metadata": {},
   "outputs": [],
   "source": [
    "from sklearn import datasets, metrics\n",
    "from sklearn.tree import DecisionTreeClassifier, DecisionTreeRegressor\n",
    "from sklearn.model_selection import train_test_split"
   ]
  },
  {
   "cell_type": "code",
   "execution_count": 11,
   "metadata": {},
   "outputs": [
    {
     "name": "stdout",
     "output_type": "stream",
     "text": [
      "Acuuracy:  0.9736842105263158\n",
      "['CRIM' 'ZN' 'INDUS' 'CHAS' 'NOX' 'RM' 'AGE' 'DIS' 'RAD' 'TAX' 'PTRATIO'\n",
      " 'B' 'LSTAT']\n",
      "Feature importance:  [8.55723106e-02 1.15378759e-03 9.58496806e-03 9.56159152e-03\n",
      " 1.16087802e-02 5.41237272e-01 1.50508184e-02 5.80183455e-02\n",
      " 4.83641131e-04 1.05139885e-02 2.56436362e-02 8.44928221e-03\n",
      " 2.23121578e-01]\n"
     ]
    }
   ],
   "source": [
    "# 讀取 boston資料集, 預測目標為連續值,用 DecisionTreeRegressor\n",
    "boston = datasets.load_boston()\n",
    "\n",
    "# 切分訓練集/測試集\n",
    "x_train, x_test, y_train, y_test = train_test_split(boston.data, boston.target, test_size=0.25, random_state=4)\n",
    "\n",
    "# 建立模型\n",
    "dtr = DecisionTreeRegressor()\n",
    "\n",
    "# 訓練模型\n",
    "dtr.fit(x_train, y_train)\n",
    "\n",
    "# 預測測試集\n",
    "y_pred = dtr.predict(x_test)\n",
    "\n",
    "print(\"Acuuracy: \", acc)\n",
    "print(boston.feature_names)\n",
    "print(\"Feature importance: \", dtr.feature_importances_)"
   ]
  },
  {
   "cell_type": "code",
   "execution_count": 28,
   "metadata": {},
   "outputs": [
    {
     "name": "stdout",
     "output_type": "stream",
     "text": [
      "Acuuracy:  0.9555555555555556\n",
      "['alcohol', 'malic_acid', 'ash', 'alcalinity_of_ash', 'magnesium', 'total_phenols', 'flavanoids', 'nonflavanoid_phenols', 'proanthocyanins', 'color_intensity', 'hue', 'od280/od315_of_diluted_wines', 'proline']\n",
      "Feature importance:  [0.01794699 0.         0.         0.01571782 0.07749455 0.\n",
      " 0.41359716 0.         0.         0.14140525 0.         0.\n",
      " 0.33383822]\n"
     ]
    }
   ],
   "source": [
    "# 讀取 wine 資料集, 預測目標為分類,用 DecisionTreeClassifier\n",
    "wine = datasets.load_wine()\n",
    "\n",
    "# 切分訓練集/測試集\n",
    "x_train, x_test, y_train, y_test = train_test_split(wine.data, wine.target, test_size=0.25, random_state=4)\n",
    "\n",
    "# 建立模型\n",
    "dtc = DecisionTreeClassifier(criterion = 'entropy',max_depth=None, min_samples_split = 2,min_samples_leaf = 1)\n",
    "\n",
    "# 訓練模型\n",
    "dtc.fit(x_train, y_train)\n",
    "\n",
    "# 預測測試集\n",
    "y_pred = dtc.predict(x_test)\n",
    "\n",
    "# 查看精確度 accuracy\n",
    "acc = metrics.accuracy_score(y_test, y_pred)\n",
    "print(\"Acuuracy: \", acc)\n",
    "print(wine.feature_names)\n",
    "print(\"Feature importance: \", dtc.feature_importances_)"
   ]
  },
  {
   "cell_type": "code",
   "execution_count": null,
   "metadata": {},
   "outputs": [],
   "source": []
  }
 ],
 "metadata": {
  "kernelspec": {
   "display_name": "Python 3",
   "language": "python",
   "name": "python3"
  },
  "language_info": {
   "codemirror_mode": {
    "name": "ipython",
    "version": 3
   },
   "file_extension": ".py",
   "mimetype": "text/x-python",
   "name": "python",
   "nbconvert_exporter": "python",
   "pygments_lexer": "ipython3",
   "version": "3.6.8"
  }
 },
 "nbformat": 4,
 "nbformat_minor": 2
}
