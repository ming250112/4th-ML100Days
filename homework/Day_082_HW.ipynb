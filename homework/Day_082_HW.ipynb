{
 "cells": [
  {
   "cell_type": "markdown",
   "metadata": {},
   "source": [
    "## Work\n",
    "1. 請比較使用不同層數以及不同 Dropout rate 對訓練的效果\n",
    "2. 將 optimizer 改成使用 Adam 並加上適當的 dropout rate 檢視結果"
   ]
  },
  {
   "cell_type": "code",
   "execution_count": 2,
   "metadata": {},
   "outputs": [],
   "source": [
    "import os\n",
    "import keras\n",
    "import itertools\n",
    "# Disable GPU\n",
    "os.environ[\"CUDA_VISIBLE_DEVICES\"] = \"\""
   ]
  },
  {
   "cell_type": "code",
   "execution_count": 3,
   "metadata": {},
   "outputs": [],
   "source": [
    "train, test = keras.datasets.cifar10.load_data()"
   ]
  },
  {
   "cell_type": "code",
   "execution_count": 4,
   "metadata": {},
   "outputs": [],
   "source": [
    "## 資料前處理\n",
    "def preproc_x(x, flatten=True):\n",
    "    x = x / 255.\n",
    "    if flatten:\n",
    "        x = x.reshape((len(x), -1))\n",
    "    return x\n",
    "\n",
    "def preproc_y(y, num_classes=10):\n",
    "    if y.shape[-1] == 1:\n",
    "        y = keras.utils.to_categorical(y, num_classes)\n",
    "    return y    "
   ]
  },
  {
   "cell_type": "code",
   "execution_count": 5,
   "metadata": {},
   "outputs": [],
   "source": [
    "x_train, y_train = train\n",
    "x_test, y_test = test\n",
    "\n",
    "# Preproc the inputs\n",
    "x_train = preproc_x(x_train)\n",
    "x_test = preproc_x(x_test)\n",
    "\n",
    "# Preprc the outputs\n",
    "y_train = preproc_y(y_train)\n",
    "y_test = preproc_y(y_test)"
   ]
  },
  {
   "cell_type": "code",
   "execution_count": 6,
   "metadata": {},
   "outputs": [],
   "source": [
    "from keras.layers import Dropout\n",
    "\n",
    "\"\"\"\n",
    "建立神經網路，並加入 dropout layer\n",
    "\"\"\"\n",
    "def build_mlp(input_shape, output_units=10, num_neurons=[512, 256, 128], drp_ratio=0.2):\n",
    "    input_layer = keras.layers.Input(input_shape)\n",
    "    \n",
    "    for i, n_units in enumerate(num_neurons):\n",
    "        if i == 0:\n",
    "            x = keras.layers.Dense(units=n_units, \n",
    "                                   activation=\"relu\", \n",
    "                                   name=\"hidden_layer\"+str(i+1))(input_layer)\n",
    "            x = Dropout(drp_ratio)(x)\n",
    "        else:\n",
    "            x = keras.layers.Dense(units=n_units, \n",
    "                                   activation=\"relu\", \n",
    "                                   name=\"hidden_layer\"+str(i+1))(x)\n",
    "            x = Dropout(drp_ratio)(x)\n",
    "    \n",
    "    out = keras.layers.Dense(units=output_units, activation=\"softmax\", name=\"output\")(x)\n",
    "    \n",
    "    model = keras.models.Model(inputs=[input_layer], outputs=[out])\n",
    "    return model"
   ]
  },
  {
   "cell_type": "code",
   "execution_count": 7,
   "metadata": {},
   "outputs": [],
   "source": [
    "## 超參數設定\n",
    "LEARNING_RATE = 1e-3\n",
    "EPOCHS = 50\n",
    "BATCH_SIZE = 256\n",
    "MOMENTUM = 0.95\n",
    "Dropout_EXP = 0.25"
   ]
  },
  {
   "cell_type": "code",
   "execution_count": 8,
   "metadata": {
    "scrolled": true
   },
   "outputs": [
    {
     "name": "stdout",
     "output_type": "stream",
     "text": [
      "Model: \"model_1\"\n",
      "_________________________________________________________________\n",
      "Layer (type)                 Output Shape              Param #   \n",
      "=================================================================\n",
      "input_1 (InputLayer)         (None, 3072)              0         \n",
      "_________________________________________________________________\n",
      "hidden_layer1 (Dense)        (None, 512)               1573376   \n",
      "_________________________________________________________________\n",
      "dropout_1 (Dropout)          (None, 512)               0         \n",
      "_________________________________________________________________\n",
      "hidden_layer2 (Dense)        (None, 256)               131328    \n",
      "_________________________________________________________________\n",
      "dropout_2 (Dropout)          (None, 256)               0         \n",
      "_________________________________________________________________\n",
      "hidden_layer3 (Dense)        (None, 128)               32896     \n",
      "_________________________________________________________________\n",
      "dropout_3 (Dropout)          (None, 128)               0         \n",
      "_________________________________________________________________\n",
      "output (Dense)               (None, 10)                1290      \n",
      "=================================================================\n",
      "Total params: 1,738,890\n",
      "Trainable params: 1,738,890\n",
      "Non-trainable params: 0\n",
      "_________________________________________________________________\n",
      "Train on 50000 samples, validate on 10000 samples\n",
      "Epoch 1/50\n",
      "50000/50000 [==============================] - 95s 2ms/step - loss: 2.0569 - accuracy: 0.2398 - val_loss: 1.8371 - val_accuracy: 0.3427\n",
      "Epoch 2/50\n",
      "50000/50000 [==============================] - 52s 1ms/step - loss: 1.8769 - accuracy: 0.3186 - val_loss: 1.7655 - val_accuracy: 0.3665\n",
      "Epoch 3/50\n",
      "50000/50000 [==============================] - 51s 1ms/step - loss: 1.8266 - accuracy: 0.3380 - val_loss: 1.7314 - val_accuracy: 0.3681\n",
      "Epoch 4/50\n",
      "50000/50000 [==============================] - 52s 1ms/step - loss: 1.7836 - accuracy: 0.3545 - val_loss: 1.6761 - val_accuracy: 0.4048\n",
      "Epoch 5/50\n",
      "50000/50000 [==============================] - 51s 1ms/step - loss: 1.7453 - accuracy: 0.3686 - val_loss: 1.6512 - val_accuracy: 0.4124\n",
      "Epoch 6/50\n",
      "50000/50000 [==============================] - 50s 1ms/step - loss: 1.7242 - accuracy: 0.3758 - val_loss: 1.6470 - val_accuracy: 0.4168\n",
      "Epoch 7/50\n",
      "50000/50000 [==============================] - 51s 1ms/step - loss: 1.7044 - accuracy: 0.3846 - val_loss: 1.6096 - val_accuracy: 0.4283\n",
      "Epoch 8/50\n",
      "50000/50000 [==============================] - 51s 1ms/step - loss: 1.6914 - accuracy: 0.3891 - val_loss: 1.6148 - val_accuracy: 0.4304\n",
      "Epoch 9/50\n",
      "50000/50000 [==============================] - 51s 1ms/step - loss: 1.6744 - accuracy: 0.3980 - val_loss: 1.5855 - val_accuracy: 0.4342\n",
      "Epoch 10/50\n",
      "50000/50000 [==============================] - 52s 1ms/step - loss: 1.6650 - accuracy: 0.4010 - val_loss: 1.5822 - val_accuracy: 0.4413\n",
      "Epoch 11/50\n",
      "50000/50000 [==============================] - 51s 1ms/step - loss: 1.6490 - accuracy: 0.4055 - val_loss: 1.5692 - val_accuracy: 0.4423\n",
      "Epoch 12/50\n",
      "50000/50000 [==============================] - 51s 1ms/step - loss: 1.6576 - accuracy: 0.4072 - val_loss: 1.5487 - val_accuracy: 0.4466\n",
      "Epoch 13/50\n",
      "50000/50000 [==============================] - 52s 1ms/step - loss: 1.6374 - accuracy: 0.4123 - val_loss: 1.5804 - val_accuracy: 0.4558\n",
      "Epoch 14/50\n",
      "50000/50000 [==============================] - 52s 1ms/step - loss: 1.6360 - accuracy: 0.4117 - val_loss: 1.5557 - val_accuracy: 0.4575\n",
      "Epoch 15/50\n",
      "50000/50000 [==============================] - 51s 1ms/step - loss: 1.6162 - accuracy: 0.4173 - val_loss: 1.5362 - val_accuracy: 0.4494\n",
      "Epoch 16/50\n",
      "50000/50000 [==============================] - 51s 1ms/step - loss: 1.6122 - accuracy: 0.4156 - val_loss: 1.5358 - val_accuracy: 0.4573\n",
      "Epoch 17/50\n",
      "50000/50000 [==============================] - 51s 1ms/step - loss: 1.6068 - accuracy: 0.4224 - val_loss: 1.5537 - val_accuracy: 0.4539\n",
      "Epoch 18/50\n",
      "50000/50000 [==============================] - 52s 1ms/step - loss: 1.5892 - accuracy: 0.4280 - val_loss: 1.5181 - val_accuracy: 0.4649\n",
      "Epoch 19/50\n",
      "50000/50000 [==============================] - 51s 1ms/step - loss: 1.5898 - accuracy: 0.4277 - val_loss: 1.5369 - val_accuracy: 0.4560\n",
      "Epoch 20/50\n",
      "50000/50000 [==============================] - 51s 1ms/step - loss: 1.5909 - accuracy: 0.4282 - val_loss: 1.5267 - val_accuracy: 0.4610\n",
      "Epoch 21/50\n",
      "50000/50000 [==============================] - 51s 1ms/step - loss: 1.5749 - accuracy: 0.4339 - val_loss: 1.5252 - val_accuracy: 0.4665\n",
      "Epoch 22/50\n",
      "50000/50000 [==============================] - 50s 1ms/step - loss: 1.5656 - accuracy: 0.4358 - val_loss: 1.4987 - val_accuracy: 0.4687\n",
      "Epoch 23/50\n",
      "50000/50000 [==============================] - 51s 1ms/step - loss: 1.5633 - accuracy: 0.4382 - val_loss: 1.5072 - val_accuracy: 0.4698\n",
      "Epoch 24/50\n",
      "50000/50000 [==============================] - 51s 1ms/step - loss: 1.5585 - accuracy: 0.4431 - val_loss: 1.5279 - val_accuracy: 0.4628\n",
      "Epoch 25/50\n",
      "50000/50000 [==============================] - 50s 1ms/step - loss: 1.5611 - accuracy: 0.4399 - val_loss: 1.5182 - val_accuracy: 0.4623\n",
      "Epoch 26/50\n",
      "50000/50000 [==============================] - 50s 1ms/step - loss: 1.5412 - accuracy: 0.4465 - val_loss: 1.5150 - val_accuracy: 0.4660\n",
      "Epoch 27/50\n",
      "50000/50000 [==============================] - 53s 1ms/step - loss: 1.5405 - accuracy: 0.4502 - val_loss: 1.4976 - val_accuracy: 0.4755\n",
      "Epoch 28/50\n",
      "50000/50000 [==============================] - 50s 1ms/step - loss: 1.5326 - accuracy: 0.4478 - val_loss: 1.4784 - val_accuracy: 0.4761\n",
      "Epoch 29/50\n",
      "50000/50000 [==============================] - 50s 1ms/step - loss: 1.5367 - accuracy: 0.4490 - val_loss: 1.4673 - val_accuracy: 0.4874\n",
      "Epoch 30/50\n",
      "50000/50000 [==============================] - 51s 1ms/step - loss: 1.5254 - accuracy: 0.4503 - val_loss: 1.4728 - val_accuracy: 0.4760\n",
      "Epoch 31/50\n",
      "50000/50000 [==============================] - 51s 1ms/step - loss: 1.5277 - accuracy: 0.4516 - val_loss: 1.4754 - val_accuracy: 0.4730\n",
      "Epoch 32/50\n",
      "50000/50000 [==============================] - 51s 1ms/step - loss: 1.5217 - accuracy: 0.4549 - val_loss: 1.4795 - val_accuracy: 0.4757\n",
      "Epoch 33/50\n",
      "50000/50000 [==============================] - 51s 1ms/step - loss: 1.5191 - accuracy: 0.4557 - val_loss: 1.4780 - val_accuracy: 0.4701\n",
      "Epoch 34/50\n",
      "50000/50000 [==============================] - 51s 1ms/step - loss: 1.5169 - accuracy: 0.4545 - val_loss: 1.4557 - val_accuracy: 0.4884\n",
      "Epoch 35/50\n",
      "50000/50000 [==============================] - 51s 1ms/step - loss: 1.5063 - accuracy: 0.4555 - val_loss: 1.4632 - val_accuracy: 0.4779\n",
      "Epoch 36/50\n",
      "50000/50000 [==============================] - 51s 1ms/step - loss: 1.5069 - accuracy: 0.4588 - val_loss: 1.4697 - val_accuracy: 0.4740\n",
      "Epoch 37/50\n",
      "50000/50000 [==============================] - 49s 987us/step - loss: 1.4958 - accuracy: 0.4633 - val_loss: 1.4606 - val_accuracy: 0.4831\n",
      "Epoch 38/50\n",
      "50000/50000 [==============================] - 50s 999us/step - loss: 1.5038 - accuracy: 0.4622 - val_loss: 1.4983 - val_accuracy: 0.4800\n",
      "Epoch 39/50\n",
      "50000/50000 [==============================] - 50s 999us/step - loss: 1.5082 - accuracy: 0.4609 - val_loss: 1.4541 - val_accuracy: 0.4887\n",
      "Epoch 40/50\n",
      "50000/50000 [==============================] - 50s 1ms/step - loss: 1.4978 - accuracy: 0.4604 - val_loss: 1.4654 - val_accuracy: 0.4820\n",
      "Epoch 41/50\n",
      "50000/50000 [==============================] - 50s 1ms/step - loss: 1.4998 - accuracy: 0.4623 - val_loss: 1.4595 - val_accuracy: 0.4856\n",
      "Epoch 42/50\n",
      "50000/50000 [==============================] - 50s 1ms/step - loss: 1.4921 - accuracy: 0.4650 - val_loss: 1.4479 - val_accuracy: 0.4862\n",
      "Epoch 43/50\n",
      "50000/50000 [==============================] - 50s 1ms/step - loss: 1.4934 - accuracy: 0.4628 - val_loss: 1.4481 - val_accuracy: 0.4913\n",
      "Epoch 44/50\n",
      "50000/50000 [==============================] - 50s 999us/step - loss: 1.4834 - accuracy: 0.4657 - val_loss: 1.4490 - val_accuracy: 0.4899\n",
      "Epoch 45/50\n",
      "50000/50000 [==============================] - 50s 996us/step - loss: 1.4859 - accuracy: 0.4677 - val_loss: 1.4264 - val_accuracy: 0.4936\n",
      "Epoch 46/50\n"
     ]
    },
    {
     "name": "stdout",
     "output_type": "stream",
     "text": [
      "50000/50000 [==============================] - 50s 1ms/step - loss: 1.4789 - accuracy: 0.4680 - val_loss: 1.4599 - val_accuracy: 0.4814\n",
      "Epoch 47/50\n",
      "50000/50000 [==============================] - 50s 1ms/step - loss: 1.4815 - accuracy: 0.4704 - val_loss: 1.4375 - val_accuracy: 0.4969\n",
      "Epoch 48/50\n",
      "50000/50000 [==============================] - 50s 1ms/step - loss: 1.4762 - accuracy: 0.4705 - val_loss: 1.4430 - val_accuracy: 0.4860\n",
      "Epoch 49/50\n",
      "50000/50000 [==============================] - 50s 1000us/step - loss: 1.4753 - accuracy: 0.4672 - val_loss: 1.4407 - val_accuracy: 0.4907\n",
      "Epoch 50/50\n",
      "50000/50000 [==============================] - 50s 998us/step - loss: 1.4679 - accuracy: 0.4729 - val_loss: 1.4314 - val_accuracy: 0.4940\n"
     ]
    },
    {
     "ename": "KeyError",
     "evalue": "'acc'",
     "output_type": "error",
     "traceback": [
      "\u001b[1;31m---------------------------------------------------------------------------\u001b[0m",
      "\u001b[1;31mKeyError\u001b[0m                                  Traceback (most recent call last)",
      "\u001b[1;32m<ipython-input-8-f8a0dc9d19c9>\u001b[0m in \u001b[0;36m<module>\u001b[1;34m\u001b[0m\n\u001b[0;32m     13\u001b[0m \u001b[0mtrain_loss\u001b[0m \u001b[1;33m=\u001b[0m \u001b[0mmodel\u001b[0m\u001b[1;33m.\u001b[0m\u001b[0mhistory\u001b[0m\u001b[1;33m.\u001b[0m\u001b[0mhistory\u001b[0m\u001b[1;33m[\u001b[0m\u001b[1;34m\"loss\"\u001b[0m\u001b[1;33m]\u001b[0m\u001b[1;33m\u001b[0m\u001b[1;33m\u001b[0m\u001b[0m\n\u001b[0;32m     14\u001b[0m \u001b[0mvalid_loss\u001b[0m \u001b[1;33m=\u001b[0m \u001b[0mmodel\u001b[0m\u001b[1;33m.\u001b[0m\u001b[0mhistory\u001b[0m\u001b[1;33m.\u001b[0m\u001b[0mhistory\u001b[0m\u001b[1;33m[\u001b[0m\u001b[1;34m\"val_loss\"\u001b[0m\u001b[1;33m]\u001b[0m\u001b[1;33m\u001b[0m\u001b[1;33m\u001b[0m\u001b[0m\n\u001b[1;32m---> 15\u001b[1;33m \u001b[0mtrain_acc\u001b[0m \u001b[1;33m=\u001b[0m \u001b[0mmodel\u001b[0m\u001b[1;33m.\u001b[0m\u001b[0mhistory\u001b[0m\u001b[1;33m.\u001b[0m\u001b[0mhistory\u001b[0m\u001b[1;33m[\u001b[0m\u001b[1;34m\"acc\"\u001b[0m\u001b[1;33m]\u001b[0m\u001b[1;33m\u001b[0m\u001b[1;33m\u001b[0m\u001b[0m\n\u001b[0m\u001b[0;32m     16\u001b[0m \u001b[0mvalid_acc\u001b[0m \u001b[1;33m=\u001b[0m \u001b[0mmodel\u001b[0m\u001b[1;33m.\u001b[0m\u001b[0mhistory\u001b[0m\u001b[1;33m.\u001b[0m\u001b[0mhistory\u001b[0m\u001b[1;33m[\u001b[0m\u001b[1;34m\"val_acc\"\u001b[0m\u001b[1;33m]\u001b[0m\u001b[1;33m\u001b[0m\u001b[1;33m\u001b[0m\u001b[0m\n",
      "\u001b[1;31mKeyError\u001b[0m: 'acc'"
     ]
    }
   ],
   "source": [
    "model = build_mlp(input_shape=x_train.shape[1:], drp_ratio=Dropout_EXP)\n",
    "model.summary()\n",
    "optimizer = keras.optimizers.SGD(lr=LEARNING_RATE, nesterov=True, momentum=MOMENTUM)\n",
    "model.compile(loss=\"categorical_crossentropy\", metrics=[\"accuracy\"], optimizer='adam')\n",
    "\n",
    "model.fit(x_train, y_train, \n",
    "          epochs=EPOCHS, \n",
    "          batch_size=BATCH_SIZE, \n",
    "          validation_data=(x_test, y_test), \n",
    "          shuffle=True)\n",
    "\n",
    "# Collect results\n",
    "train_loss = model.history.history[\"loss\"]\n",
    "valid_loss = model.history.history[\"val_loss\"]\n",
    "train_acc = model.history.history[\"accuacy\"]\n",
    "valid_acc = model.history.history[\"val_accuacy\"]"
   ]
  },
  {
   "cell_type": "code",
   "execution_count": 10,
   "metadata": {},
   "outputs": [],
   "source": [
    "# Collect results\n",
    "train_loss = model.history.history[\"loss\"]\n",
    "valid_loss = model.history.history[\"val_loss\"]\n",
    "train_acc = model.history.history[\"accuracy\"]\n",
    "valid_acc = model.history.history[\"val_accuracy\"]"
   ]
  },
  {
   "cell_type": "code",
   "execution_count": 11,
   "metadata": {},
   "outputs": [
    {
     "data": {
      "image/png": "[encoded data removed]",
      "text/plain": [
       "<Figure size 432x288 with 1 Axes>"
      ]
     },
     "metadata": {
      "needs_background": "light"
     },
     "output_type": "display_data"
    },
    {
     "data": {
      "image/png": "[encoded data removed]",
      "text/plain": [
       "<Figure size 432x288 with 1 Axes>"
      ]
     },
     "metadata": {
      "needs_background": "light"
     },
     "output_type": "display_data"
    }
   ],
   "source": [
    "import matplotlib.pyplot as plt\n",
    "%matplotlib inline\n",
    "\n",
    "plt.plot(range(len(train_loss)), train_loss, label=\"train loss\")\n",
    "plt.plot(range(len(valid_loss)), valid_loss, label=\"valid loss\")\n",
    "plt.legend()\n",
    "plt.title(\"Loss\")\n",
    "plt.show()\n",
    "\n",
    "plt.plot(range(len(train_acc)), train_acc, label=\"train accuracy\")\n",
    "plt.plot(range(len(valid_acc)), valid_acc, label=\"valid accuracy\")\n",
    "plt.legend()\n",
    "plt.title(\"Accuracy\")\n",
    "plt.show()"
   ]
  }
 ],
 "metadata": {
  "kernelspec": {
   "display_name": "Python 3",
   "language": "python",
   "name": "python3"
  },
  "language_info": {
   "codemirror_mode": {
    "name": "ipython",
    "version": 3
   },
   "file_extension": ".py",
   "mimetype": "text/x-python",
   "name": "python",
   "nbconvert_exporter": "python",
   "pygments_lexer": "ipython3",
   "version": "3.6.8"
  }
 },
 "nbformat": 4,
 "nbformat_minor": 2
}
