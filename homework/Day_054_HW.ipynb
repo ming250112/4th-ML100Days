{
 "cells": [
  {
   "cell_type": "markdown",
   "metadata": {},
   "source": [
    "# 作業\n",
    "* 試著想想看, 非監督學習是否有可能使用評價函數 (Metric) 來鑑別好壞呢?  \n",
    "(Hint : 可以分為 \"有目標值\" 與 \"無目標值\" 兩個方向思考)"
   ]
  },
  {
   "cell_type": "code",
   "execution_count": null,
   "metadata": {
    "collapsed": true
   },
   "outputs": [],
   "source": [
    "1. 具有目標值的機器學習為監督式學習, 最常見的回歸和分類問題有許多評價函數可用.\n",
    "2. 沒有目標值的機器學習為非監督式學習, 目標通常不如監督式學習明確; 需先設訂明確可評估的目標, 再配合使用適合目標的評價函數.\n",
    "   例如 PCA, 其設定目標為保留(或找出)資料分散程度較大的維度, 以某維度上的分散程度為評價目標, 剃除分散程度小的維度, 達到資料降維的目的."
   ]
  }
 ],
 "metadata": {
  "kernelspec": {
   "display_name": "Python 3",
   "language": "python",
   "name": "python3"
  },
  "language_info": {
   "codemirror_mode": {
    "name": "ipython",
    "version": 3
   },
   "file_extension": ".py",
   "mimetype": "text/x-python",
   "name": "python",
   "nbconvert_exporter": "python",
   "pygments_lexer": "ipython3",
   "version": "3.6.8"
  }
 },
 "nbformat": 4,
 "nbformat_minor": 1
}
