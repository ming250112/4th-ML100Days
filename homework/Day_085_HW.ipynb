{
 "cells": [
  {
   "cell_type": "markdown",
   "metadata": {},
   "source": [
    "## 範例重點\n",
    "* 學習如何在 keras 中加入 EarlyStop\n",
    "* 知道如何設定監控目標\n",
    "* 比較有無 earlystopping 對 validation 的影響"
   ]
  },
  {
   "cell_type": "code",
   "execution_count": 1,
   "metadata": {},
   "outputs": [
    {
     "name": "stderr",
     "output_type": "stream",
     "text": [
      "Using TensorFlow backend.\n"
     ]
    }
   ],
   "source": [
    "import os\n",
    "import keras\n",
    "\n",
    "# 本範例不需使用 GPU, 將 GPU 設定為 \"無\"\n",
    "os.environ[\"CUDA_VISIBLE_DEVICES\"] = \"\""
   ]
  },
  {
   "cell_type": "code",
   "execution_count": 2,
   "metadata": {},
   "outputs": [],
   "source": [
    "train, test = keras.datasets.cifar10.load_data()"
   ]
  },
  {
   "cell_type": "code",
   "execution_count": 3,
   "metadata": {},
   "outputs": [],
   "source": [
    "## 資料前處理\n",
    "def preproc_x(x, flatten=True):\n",
    "    x = x / 255.\n",
    "    if flatten:\n",
    "        x = x.reshape((len(x), -1))\n",
    "    return x\n",
    "\n",
    "def preproc_y(y, num_classes=10):\n",
    "    if y.shape[-1] == 1:\n",
    "        y = keras.utils.to_categorical(y, num_classes)\n",
    "    return y    "
   ]
  },
  {
   "cell_type": "code",
   "execution_count": 4,
   "metadata": {},
   "outputs": [],
   "source": [
    "x_train, y_train = train\n",
    "x_test, y_test = test\n",
    "\n",
    "# 資料前處理 - X 標準化\n",
    "x_train = preproc_x(x_train)\n",
    "x_test = preproc_x(x_test)\n",
    "\n",
    "# 資料前處理 -Y 轉成 onehot\n",
    "y_train = preproc_y(y_train)\n",
    "y_test = preproc_y(y_test)"
   ]
  },
  {
   "cell_type": "code",
   "execution_count": 8,
   "metadata": {},
   "outputs": [],
   "source": [
    "from keras.layers import BatchNormalization\n",
    "\n",
    "\"\"\"\n",
    "建立神經網路，並加入 BN layer\n",
    "\"\"\"\n",
    "def build_mlp(input_shape, output_units=10, num_neurons=[512, 256, 128]):\n",
    "    input_layer = keras.layers.Input(input_shape)\n",
    "    \n",
    "    for i, n_units in enumerate(num_neurons):\n",
    "        if i == 0:\n",
    "            x = keras.layers.Dense(units=n_units, \n",
    "                                   activation=\"relu\", \n",
    "                                   name=\"hidden_layer\"+str(i+1))(input_layer)\n",
    "            x = BatchNormalization()(x)\n",
    "        else:\n",
    "            x = keras.layers.Dense(units=n_units, \n",
    "                                   activation=\"relu\", \n",
    "                                   name=\"hidden_layer\"+str(i+1))(x)\n",
    "            x = BatchNormalization()(x)\n",
    "    \n",
    "    out = keras.layers.Dense(units=output_units, activation=\"softmax\", name=\"output\")(x)\n",
    "    \n",
    "    model = keras.models.Model(inputs=[input_layer], outputs=[out])\n",
    "    return model"
   ]
  },
  {
   "cell_type": "code",
   "execution_count": 18,
   "metadata": {},
   "outputs": [],
   "source": [
    "## 超參數設定\n",
    "LEARNING_RATE = 1e-3\n",
    "EPOCHS = 50\n",
    "BATCH_SIZE = 1024\n",
    "MOMENTUM = 0.95"
   ]
  },
  {
   "cell_type": "code",
   "execution_count": 21,
   "metadata": {},
   "outputs": [],
   "source": [
    "\"\"\"\n",
    "# 載入 Callbacks, 並將 monitor 設定為監控 validation accuracy\n",
    "\"\"\"\n",
    "from keras.callbacks import EarlyStopping\n",
    "\n",
    "earlystop = EarlyStopping(monitor=\"val_accuracy\", \n",
    "                          patience=10, \n",
    "                          verbose=1\n",
    "                          )"
   ]
  },
  {
   "cell_type": "code",
   "execution_count": 22,
   "metadata": {
    "scrolled": true
   },
   "outputs": [
    {
     "name": "stdout",
     "output_type": "stream",
     "text": [
      "Model: \"model_4\"\n",
      "_________________________________________________________________\n",
      "Layer (type)                 Output Shape              Param #   \n",
      "=================================================================\n",
      "input_4 (InputLayer)         (None, 3072)              0         \n",
      "_________________________________________________________________\n",
      "hidden_layer1 (Dense)        (None, 512)               1573376   \n",
      "_________________________________________________________________\n",
      "batch_normalization_10 (Batc (None, 512)               2048      \n",
      "_________________________________________________________________\n",
      "hidden_layer2 (Dense)        (None, 256)               131328    \n",
      "_________________________________________________________________\n",
      "batch_normalization_11 (Batc (None, 256)               1024      \n",
      "_________________________________________________________________\n",
      "hidden_layer3 (Dense)        (None, 128)               32896     \n",
      "_________________________________________________________________\n",
      "batch_normalization_12 (Batc (None, 128)               512       \n",
      "_________________________________________________________________\n",
      "output (Dense)               (None, 10)                1290      \n",
      "=================================================================\n",
      "Total params: 1,742,474\n",
      "Trainable params: 1,740,682\n",
      "Non-trainable params: 1,792\n",
      "_________________________________________________________________\n",
      "Train on 50000 samples, validate on 10000 samples\n",
      "Epoch 1/50\n",
      "50000/50000 [==============================] - 47s 949us/step - loss: 2.2455 - accuracy: 0.2709 - val_loss: 2.1390 - val_accuracy: 0.2043\n",
      "Epoch 2/50\n",
      "50000/50000 [==============================] - 47s 940us/step - loss: 1.7467 - accuracy: 0.3896 - val_loss: 1.9528 - val_accuracy: 0.3021\n",
      "Epoch 3/50\n",
      "50000/50000 [==============================] - 47s 946us/step - loss: 1.6197 - accuracy: 0.4310 - val_loss: 1.8097 - val_accuracy: 0.3646\n",
      "Epoch 4/50\n",
      "50000/50000 [==============================] - 46s 929us/step - loss: 1.5448 - accuracy: 0.4563 - val_loss: 1.7082 - val_accuracy: 0.4061\n",
      "Epoch 5/50\n",
      "50000/50000 [==============================] - 47s 931us/step - loss: 1.4897 - accuracy: 0.4781 - val_loss: 1.6234 - val_accuracy: 0.4280\n",
      "Epoch 6/50\n",
      "50000/50000 [==============================] - 46s 927us/step - loss: 1.4449 - accuracy: 0.4931 - val_loss: 1.5770 - val_accuracy: 0.4451\n",
      "Epoch 7/50\n",
      "50000/50000 [==============================] - 46s 929us/step - loss: 1.4058 - accuracy: 0.5077 - val_loss: 1.5494 - val_accuracy: 0.4505\n",
      "Epoch 8/50\n",
      "50000/50000 [==============================] - 46s 928us/step - loss: 1.3701 - accuracy: 0.5206 - val_loss: 1.5231 - val_accuracy: 0.4604\n",
      "Epoch 9/50\n",
      "50000/50000 [==============================] - 46s 929us/step - loss: 1.3385 - accuracy: 0.5325 - val_loss: 1.5048 - val_accuracy: 0.4660\n",
      "Epoch 10/50\n",
      "50000/50000 [==============================] - 46s 928us/step - loss: 1.3071 - accuracy: 0.5455 - val_loss: 1.5007 - val_accuracy: 0.4677\n",
      "Epoch 11/50\n",
      "50000/50000 [==============================] - 46s 927us/step - loss: 1.2786 - accuracy: 0.5576 - val_loss: 1.4834 - val_accuracy: 0.4798\n",
      "Epoch 12/50\n",
      "50000/50000 [==============================] - 47s 939us/step - loss: 1.2518 - accuracy: 0.5652 - val_loss: 1.4731 - val_accuracy: 0.4781\n",
      "Epoch 13/50\n",
      "50000/50000 [==============================] - 47s 932us/step - loss: 1.2265 - accuracy: 0.5747 - val_loss: 1.4631 - val_accuracy: 0.4821\n",
      "Epoch 14/50\n",
      "50000/50000 [==============================] - 46s 924us/step - loss: 1.2033 - accuracy: 0.5838 - val_loss: 1.4707 - val_accuracy: 0.4800\n",
      "Epoch 15/50\n",
      "50000/50000 [==============================] - 46s 925us/step - loss: 1.1778 - accuracy: 0.5941 - val_loss: 1.4657 - val_accuracy: 0.4829\n",
      "Epoch 16/50\n",
      "50000/50000 [==============================] - 47s 931us/step - loss: 1.1535 - accuracy: 0.6048 - val_loss: 1.4643 - val_accuracy: 0.4861\n",
      "Epoch 17/50\n",
      "50000/50000 [==============================] - 46s 923us/step - loss: 1.1327 - accuracy: 0.6112 - val_loss: 1.4571 - val_accuracy: 0.4841\n",
      "Epoch 18/50\n",
      "50000/50000 [==============================] - 46s 927us/step - loss: 1.1089 - accuracy: 0.6197 - val_loss: 1.4565 - val_accuracy: 0.4898\n",
      "Epoch 19/50\n",
      "50000/50000 [==============================] - 46s 924us/step - loss: 1.0889 - accuracy: 0.6302 - val_loss: 1.4465 - val_accuracy: 0.4973\n",
      "Epoch 20/50\n",
      "50000/50000 [==============================] - 47s 941us/step - loss: 1.0669 - accuracy: 0.6370 - val_loss: 1.4558 - val_accuracy: 0.4924\n",
      "Epoch 21/50\n",
      "50000/50000 [==============================] - 47s 940us/step - loss: 1.0445 - accuracy: 0.6466 - val_loss: 1.4589 - val_accuracy: 0.4938\n",
      "Epoch 22/50\n",
      "50000/50000 [==============================] - 47s 934us/step - loss: 1.0229 - accuracy: 0.6551 - val_loss: 1.4584 - val_accuracy: 0.4908\n",
      "Epoch 23/50\n",
      "50000/50000 [==============================] - 47s 933us/step - loss: 1.0038 - accuracy: 0.6608 - val_loss: 1.4617 - val_accuracy: 0.4941\n",
      "Epoch 24/50\n",
      "50000/50000 [==============================] - 46s 925us/step - loss: 0.9827 - accuracy: 0.6701 - val_loss: 1.4661 - val_accuracy: 0.4902\n",
      "Epoch 25/50\n",
      "50000/50000 [==============================] - 46s 925us/step - loss: 0.9616 - accuracy: 0.6781 - val_loss: 1.4737 - val_accuracy: 0.4897\n",
      "Epoch 26/50\n",
      "50000/50000 [==============================] - 46s 928us/step - loss: 0.9421 - accuracy: 0.6855 - val_loss: 1.4684 - val_accuracy: 0.4974\n",
      "Epoch 27/50\n",
      "50000/50000 [==============================] - 46s 924us/step - loss: 0.9215 - accuracy: 0.6937 - val_loss: 1.4668 - val_accuracy: 0.5026\n",
      "Epoch 28/50\n",
      "50000/50000 [==============================] - 46s 926us/step - loss: 0.8993 - accuracy: 0.7035 - val_loss: 1.4707 - val_accuracy: 0.4999\n",
      "Epoch 29/50\n",
      "50000/50000 [==============================] - 46s 924us/step - loss: 0.8809 - accuracy: 0.7084 - val_loss: 1.5095 - val_accuracy: 0.4875\n",
      "Epoch 30/50\n",
      "50000/50000 [==============================] - 46s 923us/step - loss: 0.8612 - accuracy: 0.7165 - val_loss: 1.4779 - val_accuracy: 0.5008\n",
      "Epoch 31/50\n",
      "50000/50000 [==============================] - 46s 926us/step - loss: 0.8415 - accuracy: 0.7253 - val_loss: 1.5003 - val_accuracy: 0.4941\n",
      "Epoch 32/50\n",
      "50000/50000 [==============================] - 46s 923us/step - loss: 0.8196 - accuracy: 0.7343 - val_loss: 1.5071 - val_accuracy: 0.4953\n",
      "Epoch 33/50\n",
      "50000/50000 [==============================] - 46s 927us/step - loss: 0.8021 - accuracy: 0.7390 - val_loss: 1.4935 - val_accuracy: 0.4976\n",
      "Epoch 34/50\n",
      "50000/50000 [==============================] - 46s 927us/step - loss: 0.7821 - accuracy: 0.7482 - val_loss: 1.5044 - val_accuracy: 0.4995\n",
      "Epoch 35/50\n",
      "50000/50000 [==============================] - 47s 936us/step - loss: 0.7629 - accuracy: 0.7567 - val_loss: 1.5077 - val_accuracy: 0.5008\n",
      "Epoch 36/50\n",
      "50000/50000 [==============================] - 88s 2ms/step - loss: 0.7415 - accuracy: 0.7634 - val_loss: 1.5161 - val_accuracy: 0.5004\n",
      "Epoch 37/50\n",
      "50000/50000 [==============================] - 136s 3ms/step - loss: 0.7217 - accuracy: 0.7725 - val_loss: 1.5480 - val_accuracy: 0.4899\n",
      "Epoch 00037: early stopping\n"
     ]
    },
    {
     "ename": "KeyError",
     "evalue": "'acc'",
     "output_type": "error",
     "traceback": [
      "\u001b[1;31m---------------------------------------------------------------------------\u001b[0m",
      "\u001b[1;31mKeyError\u001b[0m                                  Traceback (most recent call last)",
      "\u001b[1;32m<ipython-input-22-e9c4c8d44106>\u001b[0m in \u001b[0;36m<module>\u001b[1;34m\u001b[0m\n\u001b[0;32m     15\u001b[0m \u001b[0mtrain_loss\u001b[0m \u001b[1;33m=\u001b[0m \u001b[0mmodel\u001b[0m\u001b[1;33m.\u001b[0m\u001b[0mhistory\u001b[0m\u001b[1;33m.\u001b[0m\u001b[0mhistory\u001b[0m\u001b[1;33m[\u001b[0m\u001b[1;34m\"loss\"\u001b[0m\u001b[1;33m]\u001b[0m\u001b[1;33m\u001b[0m\u001b[1;33m\u001b[0m\u001b[0m\n\u001b[0;32m     16\u001b[0m \u001b[0mvalid_loss\u001b[0m \u001b[1;33m=\u001b[0m \u001b[0mmodel\u001b[0m\u001b[1;33m.\u001b[0m\u001b[0mhistory\u001b[0m\u001b[1;33m.\u001b[0m\u001b[0mhistory\u001b[0m\u001b[1;33m[\u001b[0m\u001b[1;34m\"val_loss\"\u001b[0m\u001b[1;33m]\u001b[0m\u001b[1;33m\u001b[0m\u001b[1;33m\u001b[0m\u001b[0m\n\u001b[1;32m---> 17\u001b[1;33m \u001b[0mtrain_acc\u001b[0m \u001b[1;33m=\u001b[0m \u001b[0mmodel\u001b[0m\u001b[1;33m.\u001b[0m\u001b[0mhistory\u001b[0m\u001b[1;33m.\u001b[0m\u001b[0mhistory\u001b[0m\u001b[1;33m[\u001b[0m\u001b[1;34m\"acc\"\u001b[0m\u001b[1;33m]\u001b[0m\u001b[1;33m\u001b[0m\u001b[1;33m\u001b[0m\u001b[0m\n\u001b[0m\u001b[0;32m     18\u001b[0m \u001b[0mvalid_acc\u001b[0m \u001b[1;33m=\u001b[0m \u001b[0mmodel\u001b[0m\u001b[1;33m.\u001b[0m\u001b[0mhistory\u001b[0m\u001b[1;33m.\u001b[0m\u001b[0mhistory\u001b[0m\u001b[1;33m[\u001b[0m\u001b[1;34m\"val_acc\"\u001b[0m\u001b[1;33m]\u001b[0m\u001b[1;33m\u001b[0m\u001b[1;33m\u001b[0m\u001b[0m\n",
      "\u001b[1;31mKeyError\u001b[0m: 'acc'"
     ]
    }
   ],
   "source": [
    "model = build_mlp(input_shape=x_train.shape[1:])\n",
    "model.summary()\n",
    "optimizer = keras.optimizers.SGD(lr=LEARNING_RATE, nesterov=True, momentum=MOMENTUM)\n",
    "model.compile(loss=\"categorical_crossentropy\", metrics=[\"accuracy\"], optimizer=optimizer)\n",
    "\n",
    "model.fit(x_train, y_train, \n",
    "          epochs=EPOCHS, \n",
    "          batch_size=BATCH_SIZE, \n",
    "          validation_data=(x_test, y_test), \n",
    "          shuffle=True,\n",
    "          callbacks=[earlystop]\n",
    "         )"
   ]
  },
  {
   "cell_type": "code",
   "execution_count": 23,
   "metadata": {},
   "outputs": [],
   "source": [
    "# Collect results\n",
    "train_loss = model.history.history[\"loss\"]\n",
    "valid_loss = model.history.history[\"val_loss\"]\n",
    "train_acc = model.history.history[\"accuracy\"]\n",
    "valid_acc = model.history.history[\"val_accuracy\"]"
   ]
  },
  {
   "cell_type": "code",
   "execution_count": 24,
   "metadata": {},
   "outputs": [
    {
     "data": {
      "image/png": "[encoded data removed]",
      "text/plain": [
       "<Figure size 432x288 with 1 Axes>"
      ]
     },
     "metadata": {
      "needs_background": "light"
     },
     "output_type": "display_data"
    },
    {
     "data": {
      "image/png": "[encoded data removed]",
      "text/plain": [
       "<Figure size 432x288 with 1 Axes>"
      ]
     },
     "metadata": {
      "needs_background": "light"
     },
     "output_type": "display_data"
    }
   ],
   "source": [
    "import matplotlib.pyplot as plt\n",
    "%matplotlib inline\n",
    "\n",
    "plt.plot(range(len(train_loss)), train_loss, label=\"train loss\")\n",
    "plt.plot(range(len(valid_loss)), valid_loss, label=\"valid loss\")\n",
    "plt.legend()\n",
    "plt.title(\"Loss\")\n",
    "plt.show()\n",
    "\n",
    "plt.plot(range(len(train_acc)), train_acc, label=\"train accuracy\")\n",
    "plt.plot(range(len(valid_acc)), valid_acc, label=\"valid accuracy\")\n",
    "plt.legend()\n",
    "plt.title(\"Accuracy\")\n",
    "plt.show()"
   ]
  },
  {
   "cell_type": "markdown",
   "metadata": {},
   "source": [
    "## Work\n",
    "1. 試改變 monitor \"Validation Accuracy\" 並比較結果\n",
    "2. 調整 earlystop 的等待次數至 10, 25 並比較結果"
   ]
  }
 ],
 "metadata": {
  "kernelspec": {
   "display_name": "Python 3",
   "language": "python",
   "name": "python3"
  },
  "language_info": {
   "codemirror_mode": {
    "name": "ipython",
    "version": 3
   },
   "file_extension": ".py",
   "mimetype": "text/x-python",
   "name": "python",
   "nbconvert_exporter": "python",
   "pygments_lexer": "ipython3",
   "version": "3.6.8"
  }
 },
 "nbformat": 4,
 "nbformat_minor": 2
}
