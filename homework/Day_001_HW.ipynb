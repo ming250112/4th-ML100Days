{
 "cells": [
  {
   "cell_type": "markdown",
   "metadata": {},
   "source": [
    "# [作業１]　\n",
    "請寫一個函式用來計算 Mean Square Error"
   ]
  },
  {
   "cell_type": "markdown",
   "metadata": {},
   "source": [
    "[作業1]"
   ]
  },
  {
   "cell_type": "code",
   "execution_count": 1,
   "metadata": {},
   "outputs": [],
   "source": [
    "# 匯入所需的第三方庫\n",
    "\n",
    "import numpy as np\n",
    "import matplotlib.pyplot as plt"
   ]
  },
  {
   "cell_type": "code",
   "execution_count": 16,
   "metadata": {},
   "outputs": [],
   "source": [
    "# hw1\n",
    "\n",
    "def mean_absolute_error(y, yp):\n",
    "    mae = MAE = sum(abs(y - yp)) / len(y)\n",
    "    return mae\n",
    "\n",
    "def mean_squared_error(y, yp):\n",
    "    err = yp-y\n",
    "    sqr_err = err**2\n",
    "    sum_sqr_err = np.sum(sqr_err)\n",
    "    mse = sum_sqr_err / len(err)\n",
    "    return mse"
   ]
  },
  {
   "cell_type": "code",
   "execution_count": 17,
   "metadata": {},
   "outputs": [
    {
     "data": {
      "image/png": "[encoded data removed]",
      "text/plain": [
       "<Figure size 432x288 with 1 Axes>"
      ]
     },
     "metadata": {
      "needs_background": "light"
     },
     "output_type": "display_data"
    }
   ],
   "source": [
    "# 生成一組線性分布的資料點，並加入隨機抖動\n",
    "\n",
    "w = 3\n",
    "b = 0.5\n",
    "x_lin = np.linspace(0, 100, 101)\n",
    "y = (x_lin + np.random.randn(101) * 5) * w + b\n",
    "\n",
    "# 以 Matplotlib 繪圖\n",
    "\n",
    "plt.plot(x_lin, y, 'b.', label = 'data points')\n",
    "plt.title(\"Assume we have data points\")\n",
    "plt.legend(loc = 2)\n",
    "plt.show()"
   ]
  },
  {
   "cell_type": "code",
   "execution_count": 18,
   "metadata": {},
   "outputs": [
    {
     "data": {
      "image/png": "[encoded data removed]",
      "text/plain": [
       "<Figure size 432x288 with 1 Axes>"
      ]
     },
     "metadata": {
      "needs_background": "light"
     },
     "output_type": "display_data"
    }
   ],
   "source": [
    "# 加入線性函數作為比較標準\n",
    "\n",
    "y_hat = x_lin * w + b\n",
    "\n",
    "# 以 Matplotlib 繪圖\n",
    "\n",
    "plt.plot(x_lin, y, 'b.', label = 'data')\n",
    "plt.plot(x_lin, y_hat, 'r-', label = 'prediction')\n",
    "plt.title(\"Assume we have data points (And the prediction)\")\n",
    "plt.legend(loc = 2)\n",
    "plt.show()"
   ]
  },
  {
   "cell_type": "code",
   "execution_count": 19,
   "metadata": {},
   "outputs": [
    {
     "name": "stdout",
     "output_type": "stream",
     "text": [
      "The Mean squared error is 266.905\n",
      "The Mean absolute error is 12.610\n"
     ]
    }
   ],
   "source": [
    "# 執行 Function, 確認有沒有正常執行\n",
    "\n",
    "MSE = mean_squared_error(y, y_hat)\n",
    "MAE = mean_absolute_error(y, y_hat)\n",
    "print(\"The Mean squared error is %.3f\" % (MSE))\n",
    "print(\"The Mean absolute error is %.3f\" % (MAE))"
   ]
  },
  {
   "cell_type": "markdown",
   "metadata": {},
   "source": [
    "# [作業2]\n",
    "\n",
    "請上 Kaggle, 在 Competitions 或 Dataset 中找一組競賽或資料並寫下：\n",
    "\n",
    "1. 你選的這組資料為何重要\n",
    "\n",
    "2. 資料從何而來 (tips: 譬如提供者是誰、以什麼方式蒐集)\n",
    "\n",
    "3. 蒐集而來的資料型態為何\n",
    "\n",
    "4. 這組資料想解決的問題如何評估\n",
    "\n",
    "# [作業3]\n",
    "\n",
    "想像你經營一個自由載客車隊，你希望能透過數據分析以提升業績，請你思考並描述你如何規劃整體的分析/解決方案：\n",
    "\n",
    "1. 核心問題為何 (tips：如何定義 「提升業績 & 你的假設」)\n",
    "\n",
    "2. 資料從何而來 (tips：哪些資料可能會對你想問的問題產生影響 & 資料如何蒐集)\n",
    "\n",
    "3. 蒐集而來的資料型態為何\n",
    "\n",
    "4. 你要回答的問題，其如何評估 (tips：你的假設如何驗證)"
   ]
  },
  {
   "cell_type": "markdown",
   "metadata": {},
   "source": [
    "[作業2] Trending YouTube Video Statistics : Daily statistics for trending YouTube videos\n",
    "\n",
    "        1. 你選的這組資料為何重要：\n",
    "           資料羅列了 Youtube 熱門影片，並蒐集各種相關資訊，以此分析 Youtube 分類影片的方式 & 一部影片是否列為熱門．\n",
    "           透過了解不同區域與人群的偏愛，影片熱門程度可能對各方面有所影響（例如：搜索排序，首頁推薦，廣告分區投放......等等）\n",
    "           \n",
    "        2. 資料從何而來：\n",
    "           Mitchell J　透過 Youtube API 取得\n",
    "           \n",
    "        3. 蒐集而來的資料型態為何：\n",
    "           csv (comma - separated values)\n",
    "           \n",
    "        4. 這組資料想解決的問題如何評估：\n",
    "           先試圖找出各因素之間潛在的組合影響（利用視覺化等工具），\n",
    "           再利用統計學的方式（例如：迴歸分析）評估各種單一因素與其之間的組合是否為影響影片熱門程度的原因．\n",
    "           \n",
    "           \n",
    "[作業3] 想像你經營一個自由載客車隊，你希望能透過數據分析以提升業績，請你思考並描述你如何規劃整體的分析/解決方案：\n",
    "        \n",
    "        1. 核心問題為何：\n",
    "           收益最大化，成本最小化，何種方式適合長久經營？......等等\n",
    "\n",
    "        2. 資料從何而來：\n",
    "           可能須考慮　旅次客群分布，旅次時間分布，旅次產生原因，旅次路徑......等等\n",
    "           以線上問卷的形式進行資料蒐集，提供下次車費減免等優惠或可增加旅客提供資訊以及再次利用服務的誘因．\n",
    "      \n",
    "        3. 蒐集而來的資料型態為何：\n",
    "           擬採用線上問卷，較易處理成結構化的資料\n",
    "\n",
    "        4. 你要回答的問題，其如何評估\n",
    "           分析原始資料，以產生具代表性的各種參數（例如：均值，眾數，分布等統計參數）來評估；\n",
    "           據此改進既有服務（例如：優先次序，差別訂價......等等），\n",
    "           或進行新業務開發（例如：專車定點接送　或是　包車旅遊......等等）．\n",
    "           "
   ]
  }
 ],
 "metadata": {
  "anaconda-cloud": {},
  "kernelspec": {
   "display_name": "Python 3",
   "language": "python",
   "name": "python3"
  },
  "language_info": {
   "codemirror_mode": {
    "name": "ipython",
    "version": 3
   },
   "file_extension": ".py",
   "mimetype": "text/x-python",
   "name": "python",
   "nbconvert_exporter": "python",
   "pygments_lexer": "ipython3",
   "version": "3.6.8"
  }
 },
 "nbformat": 4,
 "nbformat_minor": 1
}
