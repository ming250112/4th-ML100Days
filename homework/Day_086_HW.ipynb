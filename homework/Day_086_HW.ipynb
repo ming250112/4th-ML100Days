{
 "cells": [
  {
   "cell_type": "markdown",
   "metadata": {},
   "source": [
    "## Work\n",
    "1. 試比較 save_best_only 與否的差異\n",
    "2. 請僅存入將 save_weights_only 設定為 True, 並嘗試 reset ipynb 並將模型與權重重新建回並預測 x_test"
   ]
  },
  {
   "cell_type": "code",
   "execution_count": 1,
   "metadata": {},
   "outputs": [
    {
     "name": "stderr",
     "output_type": "stream",
     "text": [
      "Using TensorFlow backend.\n"
     ]
    }
   ],
   "source": [
    "import os\n",
    "import keras\n",
    "\n",
    "# 本範例不需使用 GPU, 將 GPU 設定為 \"無\"\n",
    "os.environ[\"CUDA_VISIBLE_DEVICES\"] = \"\""
   ]
  },
  {
   "cell_type": "code",
   "execution_count": 2,
   "metadata": {},
   "outputs": [],
   "source": [
    "train, test = keras.datasets.cifar10.load_data()"
   ]
  },
  {
   "cell_type": "code",
   "execution_count": 3,
   "metadata": {},
   "outputs": [],
   "source": [
    "## 資料前處理\n",
    "def preproc_x(x, flatten=True):\n",
    "    x = x / 255.\n",
    "    if flatten:\n",
    "        x = x.reshape((len(x), -1))\n",
    "    return x\n",
    "\n",
    "def preproc_y(y, num_classes=10):\n",
    "    if y.shape[-1] == 1:\n",
    "        y = keras.utils.to_categorical(y, num_classes)\n",
    "    return y    "
   ]
  },
  {
   "cell_type": "code",
   "execution_count": 4,
   "metadata": {},
   "outputs": [],
   "source": [
    "x_train, y_train = train\n",
    "x_test, y_test = test\n",
    "\n",
    "# 資料前處理 - X 標準化\n",
    "x_train = preproc_x(x_train)\n",
    "x_test = preproc_x(x_test)\n",
    "\n",
    "# 資料前處理 -Y 轉成 onehot\n",
    "y_train = preproc_y(y_train)\n",
    "y_test = preproc_y(y_test)"
   ]
  },
  {
   "cell_type": "code",
   "execution_count": 5,
   "metadata": {},
   "outputs": [],
   "source": [
    "from keras.layers import BatchNormalization\n",
    "\n",
    "\"\"\"\n",
    "建立神經網路，並加入 BN layer\n",
    "\"\"\"\n",
    "def build_mlp(input_shape, output_units=10, num_neurons=[512, 256, 128]):\n",
    "    input_layer = keras.layers.Input(input_shape)\n",
    "    \n",
    "    for i, n_units in enumerate(num_neurons):\n",
    "        if i == 0:\n",
    "            x = keras.layers.Dense(units=n_units, \n",
    "                                   activation=\"relu\", \n",
    "                                   name=\"hidden_layer\"+str(i+1))(input_layer)\n",
    "            x = BatchNormalization()(x)\n",
    "        else:\n",
    "            x = keras.layers.Dense(units=n_units, \n",
    "                                   activation=\"relu\", \n",
    "                                   name=\"hidden_layer\"+str(i+1))(x)\n",
    "            x = BatchNormalization()(x)\n",
    "    \n",
    "    out = keras.layers.Dense(units=output_units, activation=\"softmax\", name=\"output\")(x)\n",
    "    \n",
    "    model = keras.models.Model(inputs=[input_layer], outputs=[out])\n",
    "    return model"
   ]
  },
  {
   "cell_type": "code",
   "execution_count": 12,
   "metadata": {},
   "outputs": [],
   "source": [
    "## 超參數設定\n",
    "LEARNING_RATE = 1e-3\n",
    "EPOCHS = 40\n",
    "BATCH_SIZE = 1024\n",
    "MOMENTUM = 0.95"
   ]
  },
  {
   "cell_type": "code",
   "execution_count": 13,
   "metadata": {},
   "outputs": [],
   "source": [
    "\"\"\"\n",
    "# 載入 Callbacks, 並將監控目標設為 validation loss, 且只存最佳參數時的模型\n",
    "\"\"\"\n",
    "from keras.callbacks import ModelCheckpoint\n",
    "\n",
    "model_ckpt = ModelCheckpoint(filepath=\"./tmp.h5\", \n",
    "                             monitor=\"val_loss\", \n",
    "                             save_best_only=True)"
   ]
  },
  {
   "cell_type": "code",
   "execution_count": 14,
   "metadata": {
    "scrolled": true
   },
   "outputs": [
    {
     "name": "stdout",
     "output_type": "stream",
     "text": [
      "Model: \"model_2\"\n",
      "_________________________________________________________________\n",
      "Layer (type)                 Output Shape              Param #   \n",
      "=================================================================\n",
      "input_2 (InputLayer)         (None, 3072)              0         \n",
      "_________________________________________________________________\n",
      "hidden_layer1 (Dense)        (None, 512)               1573376   \n",
      "_________________________________________________________________\n",
      "batch_normalization_4 (Batch (None, 512)               2048      \n",
      "_________________________________________________________________\n",
      "hidden_layer2 (Dense)        (None, 256)               131328    \n",
      "_________________________________________________________________\n",
      "batch_normalization_5 (Batch (None, 256)               1024      \n",
      "_________________________________________________________________\n",
      "hidden_layer3 (Dense)        (None, 128)               32896     \n",
      "_________________________________________________________________\n",
      "batch_normalization_6 (Batch (None, 128)               512       \n",
      "_________________________________________________________________\n",
      "output (Dense)               (None, 10)                1290      \n",
      "=================================================================\n",
      "Total params: 1,742,474\n",
      "Trainable params: 1,740,682\n",
      "Non-trainable params: 1,792\n",
      "_________________________________________________________________\n",
      "Train on 50000 samples, validate on 10000 samples\n",
      "Epoch 1/40\n",
      "50000/50000 [==============================] - 73s 1ms/step - loss: 2.2261 - accuracy: 0.2655 - val_loss: 2.1445 - val_accuracy: 0.2279\n",
      "Epoch 2/40\n",
      "50000/50000 [==============================] - 54s 1ms/step - loss: 1.7504 - accuracy: 0.3913 - val_loss: 1.9841 - val_accuracy: 0.2817\n",
      "Epoch 3/40\n",
      "50000/50000 [==============================] - 54s 1ms/step - loss: 1.6213 - accuracy: 0.4346 - val_loss: 1.8397 - val_accuracy: 0.3557\n",
      "Epoch 4/40\n",
      "50000/50000 [==============================] - 54s 1ms/step - loss: 1.5472 - accuracy: 0.4608 - val_loss: 1.7195 - val_accuracy: 0.4037\n",
      "Epoch 5/40\n",
      "50000/50000 [==============================] - 55s 1ms/step - loss: 1.4913 - accuracy: 0.4786 - val_loss: 1.6621 - val_accuracy: 0.4168\n",
      "Epoch 6/40\n",
      "50000/50000 [==============================] - 55s 1ms/step - loss: 1.4457 - accuracy: 0.4964 - val_loss: 1.5993 - val_accuracy: 0.4436\n",
      "Epoch 7/40\n",
      "50000/50000 [==============================] - 55s 1ms/step - loss: 1.4056 - accuracy: 0.5108 - val_loss: 1.5523 - val_accuracy: 0.4553\n",
      "Epoch 8/40\n",
      "50000/50000 [==============================] - 49s 989us/step - loss: 1.3693 - accuracy: 0.5226 - val_loss: 1.5340 - val_accuracy: 0.4577\n",
      "Epoch 9/40\n",
      "50000/50000 [==============================] - 48s 953us/step - loss: 1.3364 - accuracy: 0.5356 - val_loss: 1.5183 - val_accuracy: 0.4640\n",
      "Epoch 10/40\n",
      "50000/50000 [==============================] - 46s 914us/step - loss: 1.3075 - accuracy: 0.5462 - val_loss: 1.4990 - val_accuracy: 0.4721\n",
      "Epoch 11/40\n",
      "50000/50000 [==============================] - 45s 902us/step - loss: 1.2772 - accuracy: 0.5581 - val_loss: 1.4918 - val_accuracy: 0.4746\n",
      "Epoch 12/40\n",
      "50000/50000 [==============================] - 45s 896us/step - loss: 1.2495 - accuracy: 0.5673 - val_loss: 1.4857 - val_accuracy: 0.4805\n",
      "Epoch 13/40\n",
      "50000/50000 [==============================] - 45s 907us/step - loss: 1.2232 - accuracy: 0.5771 - val_loss: 1.4793 - val_accuracy: 0.4834\n",
      "Epoch 14/40\n",
      "50000/50000 [==============================] - 45s 901us/step - loss: 1.1990 - accuracy: 0.5858 - val_loss: 1.4820 - val_accuracy: 0.4827\n",
      "Epoch 15/40\n",
      "50000/50000 [==============================] - 45s 895us/step - loss: 1.1727 - accuracy: 0.5958 - val_loss: 1.4782 - val_accuracy: 0.4828\n",
      "Epoch 16/40\n",
      "50000/50000 [==============================] - 45s 896us/step - loss: 1.1494 - accuracy: 0.6041 - val_loss: 1.4760 - val_accuracy: 0.4822\n",
      "Epoch 17/40\n",
      "50000/50000 [==============================] - 45s 894us/step - loss: 1.1248 - accuracy: 0.6149 - val_loss: 1.4770 - val_accuracy: 0.4865\n",
      "Epoch 18/40\n",
      "50000/50000 [==============================] - 47s 933us/step - loss: 1.1038 - accuracy: 0.6219 - val_loss: 1.4704 - val_accuracy: 0.4895\n",
      "Epoch 19/40\n",
      "50000/50000 [==============================] - 47s 930us/step - loss: 1.0807 - accuracy: 0.6297 - val_loss: 1.4780 - val_accuracy: 0.4917\n",
      "Epoch 20/40\n",
      "50000/50000 [==============================] - 45s 907us/step - loss: 1.0598 - accuracy: 0.6399 - val_loss: 1.4701 - val_accuracy: 0.4937\n",
      "Epoch 21/40\n",
      "50000/50000 [==============================] - 45s 901us/step - loss: 1.0350 - accuracy: 0.6503 - val_loss: 1.4665 - val_accuracy: 0.4929\n",
      "Epoch 22/40\n",
      "50000/50000 [==============================] - 45s 901us/step - loss: 1.0138 - accuracy: 0.6577 - val_loss: 1.4721 - val_accuracy: 0.4918\n",
      "Epoch 23/40\n",
      "50000/50000 [==============================] - 45s 899us/step - loss: 0.9950 - accuracy: 0.6660 - val_loss: 1.4766 - val_accuracy: 0.4962\n",
      "Epoch 24/40\n",
      "50000/50000 [==============================] - 45s 898us/step - loss: 0.9741 - accuracy: 0.6731 - val_loss: 1.4863 - val_accuracy: 0.4933\n",
      "Epoch 25/40\n",
      "50000/50000 [==============================] - 45s 899us/step - loss: 0.9536 - accuracy: 0.6795 - val_loss: 1.4743 - val_accuracy: 0.4955\n",
      "Epoch 26/40\n",
      "50000/50000 [==============================] - 45s 898us/step - loss: 0.9327 - accuracy: 0.6871 - val_loss: 1.4875 - val_accuracy: 0.4934\n",
      "Epoch 27/40\n",
      "50000/50000 [==============================] - 46s 929us/step - loss: 0.9118 - accuracy: 0.6963 - val_loss: 1.5031 - val_accuracy: 0.4900\n",
      "Epoch 28/40\n",
      "50000/50000 [==============================] - 46s 928us/step - loss: 0.8924 - accuracy: 0.7035 - val_loss: 1.4935 - val_accuracy: 0.4930\n",
      "Epoch 29/40\n",
      "50000/50000 [==============================] - 47s 931us/step - loss: 0.8704 - accuracy: 0.7123 - val_loss: 1.4961 - val_accuracy: 0.4920\n",
      "Epoch 30/40\n",
      "50000/50000 [==============================] - 49s 971us/step - loss: 0.8508 - accuracy: 0.7205 - val_loss: 1.5020 - val_accuracy: 0.4881\n",
      "Epoch 31/40\n",
      "50000/50000 [==============================] - 48s 965us/step - loss: 0.8338 - accuracy: 0.7264 - val_loss: 1.4997 - val_accuracy: 0.4974\n",
      "Epoch 32/40\n",
      "50000/50000 [==============================] - 48s 970us/step - loss: 0.8131 - accuracy: 0.7349 - val_loss: 1.5134 - val_accuracy: 0.4893\n",
      "Epoch 33/40\n",
      "50000/50000 [==============================] - 48s 968us/step - loss: 0.7923 - accuracy: 0.7444 - val_loss: 1.5177 - val_accuracy: 0.4886\n",
      "Epoch 34/40\n",
      "50000/50000 [==============================] - 48s 970us/step - loss: 0.7753 - accuracy: 0.7492 - val_loss: 1.5234 - val_accuracy: 0.4957\n",
      "Epoch 35/40\n",
      "50000/50000 [==============================] - 49s 983us/step - loss: 0.7545 - accuracy: 0.7571 - val_loss: 1.5229 - val_accuracy: 0.4942\n",
      "Epoch 36/40\n",
      "50000/50000 [==============================] - 50s 1ms/step - loss: 0.7347 - accuracy: 0.7656 - val_loss: 1.5395 - val_accuracy: 0.4952\n",
      "Epoch 37/40\n",
      "50000/50000 [==============================] - 49s 982us/step - loss: 0.7170 - accuracy: 0.7716 - val_loss: 1.5567 - val_accuracy: 0.4866\n",
      "Epoch 38/40\n",
      "50000/50000 [==============================] - 49s 979us/step - loss: 0.6968 - accuracy: 0.7799 - val_loss: 1.5477 - val_accuracy: 0.4915\n",
      "Epoch 39/40\n",
      "50000/50000 [==============================] - 49s 974us/step - loss: 0.6805 - accuracy: 0.7873 - val_loss: 1.5625 - val_accuracy: 0.4885\n",
      "Epoch 40/40\n",
      "50000/50000 [==============================] - 49s 982us/step - loss: 0.6618 - accuracy: 0.7956 - val_loss: 1.5843 - val_accuracy: 0.4857\n",
      "10000/10000 [==============================] - 7s 683us/step\n"
     ]
    }
   ],
   "source": [
    "model = build_mlp(input_shape=x_train.shape[1:])\n",
    "model.summary()\n",
    "optimizer = keras.optimizers.SGD(lr=LEARNING_RATE, nesterov=True, momentum=MOMENTUM)\n",
    "model.compile(loss=\"categorical_crossentropy\", metrics=[\"accuracy\"], optimizer=optimizer)\n",
    "\n",
    "model.fit(x_train, y_train, \n",
    "          epochs=EPOCHS, \n",
    "          batch_size=BATCH_SIZE, \n",
    "          validation_data=(x_test, y_test), \n",
    "          shuffle=True,\n",
    "          callbacks=[model_ckpt]\n",
    "         )\n",
    "\n",
    "# Collect results\n",
    "train_loss = model.history.history[\"loss\"]\n",
    "valid_loss = model.history.history[\"val_loss\"]\n",
    "train_acc = model.history.history[\"accuracy\"]\n",
    "valid_acc = model.history.history[\"val_accuracy\"]\n",
    "\n",
    "# Load back\n",
    "model = keras.models.load_model(\"./tmp.h5\")\n",
    "loss_loadback, acc_loadback = model.evaluate(x_test, y_test)"
   ]
  },
  {
   "cell_type": "code",
   "execution_count": 15,
   "metadata": {},
   "outputs": [
    {
     "data": {
      "image/png": "[encoded data removed]",
      "text/plain": [
       "<Figure size 432x288 with 1 Axes>"
      ]
     },
     "metadata": {
      "needs_background": "light"
     },
     "output_type": "display_data"
    },
    {
     "data": {
      "image/png": "[encoded data removed]",
      "text/plain": [
       "<Figure size 432x288 with 1 Axes>"
      ]
     },
     "metadata": {
      "needs_background": "light"
     },
     "output_type": "display_data"
    }
   ],
   "source": [
    "import matplotlib.pyplot as plt\n",
    "%matplotlib inline\n",
    "\n",
    "plt.plot(range(len(train_loss)), train_loss, label=\"train loss\")\n",
    "plt.plot(range(len(valid_loss)), valid_loss, label=\"valid loss\")\n",
    "plt.hlines(y=loss_loadback, xmin=0, xmax=len(train_loss), colors='r', linestyles='--')\n",
    "plt.legend()\n",
    "plt.title(\"Loss\")\n",
    "plt.show()\n",
    "\n",
    "plt.plot(range(len(train_acc)), train_acc, label=\"train accuracy\")\n",
    "plt.plot(range(len(valid_acc)), valid_acc, label=\"valid accuracy\")\n",
    "plt.hlines(y=acc_loadback, xmin=0, xmax=len(train_loss), colors='r', linestyles='--')\n",
    "plt.legend()\n",
    "plt.title(\"Accuracy\")\n",
    "plt.show()"
   ]
  }
 ],
 "metadata": {
  "kernelspec": {
   "display_name": "Python 3",
   "language": "python",
   "name": "python3"
  },
  "language_info": {
   "codemirror_mode": {
    "name": "ipython",
    "version": 3
   },
   "file_extension": ".py",
   "mimetype": "text/x-python",
   "name": "python",
   "nbconvert_exporter": "python",
   "pygments_lexer": "ipython3",
   "version": "3.6.8"
  }
 },
 "nbformat": 4,
 "nbformat_minor": 2
}
